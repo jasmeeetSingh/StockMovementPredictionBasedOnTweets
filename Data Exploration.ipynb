{
 "cells": [
  {
   "cell_type": "code",
   "execution_count": 1,
   "id": "77a2eb3d-7470-4b24-938c-e1e9df929b03",
   "metadata": {},
   "outputs": [],
   "source": [
    "#FILE READING\n",
    "import pandas as pd\n",
    "TweetData = pd.read_csv(\"Tweet.csv\")\n",
    "CompanyData = pd.read_csv(\"Company.csv\")\n",
    "Company_TweetData = pd.read_csv(\"Company_Tweet.csv\")\n",
    "CompanyValuesData = pd.read_csv(\"CompanyValues.csv\")"
   ]
  },
  {
   "cell_type": "code",
   "execution_count": 2,
   "id": "81386beb-03db-4123-b78a-3b2c7f91cfb3",
   "metadata": {
    "tags": []
   },
   "outputs": [
    {
     "name": "stdout",
     "output_type": "stream",
     "text": [
      "(3717964, 7) (6, 2) (4336445, 2) (17528, 7)\n"
     ]
    }
   ],
   "source": [
    "print(TweetData.shape,CompanyData.shape,Company_TweetData.shape,CompanyValuesData.shape)\n",
    "#print(TweetData.info(),CompanyData.info(),Company_TweetData.info(),CompanyValuesData.info())"
   ]
  },
  {
   "cell_type": "code",
   "execution_count": 3,
   "id": "a83afcfc-10cf-45c6-8741-db47314f8bb5",
   "metadata": {
    "tags": []
   },
   "outputs": [],
   "source": [
    "#SEPERATING PRICES INTO OPEN AND CLOSE TO CHECK ON WHICH DAYS WAS PRICE HIGHER THAN PREVIOUS DAY\n",
    "list_of_open_prices = CompanyValuesData['open_value']\n",
    "list_of_close_prices = CompanyValuesData['close_value']"
   ]
  },
  {
   "cell_type": "code",
   "execution_count": 4,
   "id": "43ba4c33-2d99-4cf7-8757-914f3f6e66b5",
   "metadata": {
    "tags": []
   },
   "outputs": [],
   "source": [
    "price_movement = []\n",
    "price_movement.append(1)\n",
    "for i in range(1,len(list_of_close_prices)):\n",
    "    if(list_of_close_prices[i-1] < list_of_close_prices[i]):\n",
    "        price_movement.append(1)\n",
    "    else:\n",
    "        price_movement.append(0)"
   ]
  },
  {
   "cell_type": "code",
   "execution_count": 5,
   "id": "7490c8b2-43ed-4388-90a9-738121b6ca7c",
   "metadata": {},
   "outputs": [],
   "source": [
    "CompanyValuesData[\"price_movement\"] = price_movement"
   ]
  },
  {
   "cell_type": "code",
   "execution_count": 6,
   "id": "9bd4574d-364b-40f1-bba2-8ffef4355c10",
   "metadata": {
    "tags": []
   },
   "outputs": [],
   "source": [
    "#print(CompanyValuesData.info())"
   ]
  },
  {
   "cell_type": "code",
   "execution_count": 7,
   "id": "0329eee9-a7fd-439e-85c6-02d254fadbec",
   "metadata": {
    "tags": []
   },
   "outputs": [],
   "source": [
    "#TILL HERE WHAT WE HAVE\n",
    "\n",
    "#   1. DATASET WITH UP AND DOWN MOVE\n",
    "#   2. DATASET WITH TWEETS FOR THE COMPANY"
   ]
  },
  {
   "cell_type": "code",
   "execution_count": 8,
   "id": "417750c7-0181-4814-bf54-4ec84babacb6",
   "metadata": {
    "tags": []
   },
   "outputs": [
    {
     "name": "stdout",
     "output_type": "stream",
     "text": [
      "<class 'pandas.core.frame.DataFrame'>\n",
      "RangeIndex: 4336445 entries, 0 to 4336444\n",
      "Data columns (total 2 columns):\n",
      " #   Column         Dtype \n",
      "---  ------         ----- \n",
      " 0   tweet_id       int64 \n",
      " 1   ticker_symbol  object\n",
      "dtypes: int64(1), object(1)\n",
      "memory usage: 66.2+ MB\n"
     ]
    }
   ],
   "source": [
    "Company_TweetData.info()"
   ]
  },
  {
   "cell_type": "code",
   "execution_count": 9,
   "id": "8461c4e7-5788-4388-9d6e-75222abbdf3f",
   "metadata": {
    "tags": []
   },
   "outputs": [
    {
     "name": "stdout",
     "output_type": "stream",
     "text": [
      "Counter({'AAPL': 1425013, 'TSLA': 1096868, 'AMZN': 718715, 'GOOG': 392569, 'MSFT': 375711, 'GOOGL': 327569})\n"
     ]
    },
    {
     "data": {
      "text/plain": [
       "<AxesSubplot:>"
      ]
     },
     "execution_count": 9,
     "metadata": {},
     "output_type": "execute_result"
    },
    {
     "data": {
      "image/png": "[encoded data removed]",
      "text/plain": [
       "<Figure size 432x288 with 1 Axes>"
      ]
     },
     "metadata": {
      "needs_background": "light"
     },
     "output_type": "display_data"
    }
   ],
   "source": [
    "from collections import Counter\n",
    "companyTweets = Company_TweetData['ticker_symbol']\n",
    "companyNumberOfMentions = Counter(companyTweets)\n",
    "print(companyNumberOfMentions)\n",
    "df = pd.DataFrame.from_dict(companyNumberOfMentions, orient='index')\n",
    "df.plot(kind='bar')"
   ]
  },
  {
   "cell_type": "code",
   "execution_count": 10,
   "id": "58884c47-81cc-449d-aa6b-3b21c539514d",
   "metadata": {},
   "outputs": [],
   "source": [
    "MASTER_DATA_SET_OF_TWEETS = pd.merge(TweetData, Company_TweetData, on=\"tweet_id\")"
   ]
  },
  {
   "cell_type": "code",
   "execution_count": 11,
   "id": "707d5013-7bcd-4bca-8613-0d7dda1d7881",
   "metadata": {},
   "outputs": [
    {
     "name": "stdout",
     "output_type": "stream",
     "text": [
      "<class 'pandas.core.frame.DataFrame'>\n",
      "Int64Index: 4336445 entries, 0 to 4336444\n",
      "Data columns (total 7 columns):\n",
      " #   Column         Dtype \n",
      "---  ------         ----- \n",
      " 0   writer         object\n",
      " 1   post_date      int64 \n",
      " 2   body           object\n",
      " 3   comment_num    int64 \n",
      " 4   retweet_num    int64 \n",
      " 5   like_num       int64 \n",
      " 6   ticker_symbol  object\n",
      "dtypes: int64(4), object(3)\n",
      "memory usage: 264.7+ MB\n"
     ]
    }
   ],
   "source": [
    "MASTER_DATA_SET_OF_TWEETS.pop('tweet_id')\n",
    "MASTER_DATA_SET_OF_TWEETS.info()"
   ]
  },
  {
   "cell_type": "code",
   "execution_count": 12,
   "id": "7174f9be-1cf7-472d-89e8-be6134f1331e",
   "metadata": {},
   "outputs": [],
   "source": [
    "set_of_all_timestamps = MASTER_DATA_SET_OF_TWEETS['post_date']"
   ]
  },
  {
   "cell_type": "code",
   "execution_count": 13,
   "id": "075ddc27-dd6f-46a4-afbb-2846f366ae29",
   "metadata": {},
   "outputs": [],
   "source": [
    "from datetime import datetime\n",
    "day_date = []\n",
    "for i in set_of_all_timestamps:\n",
    "    dateFormatted = datetime.fromtimestamp(i).isoformat()\n",
    "    dateSliced = dateFormatted[:10]\n",
    "    day_date.append(dateSliced)"
   ]
  },
  {
   "cell_type": "code",
   "execution_count": 14,
   "id": "6617d822-d2de-4506-948e-bd0b798f8837",
   "metadata": {},
   "outputs": [],
   "source": [
    "MASTER_DATA_SET_OF_TWEETS.pop('post_date')\n",
    "MASTER_DATA_SET_OF_TWEETS['day_date'] = day_date"
   ]
  },
  {
   "cell_type": "code",
   "execution_count": 15,
   "id": "3fb2c8c8-03a4-45ab-8d28-fa9c443f12ea",
   "metadata": {},
   "outputs": [
    {
     "data": {
      "text/html": [
       "<div>\n",
       "<style scoped>\n",
       "    .dataframe tbody tr th:only-of-type {\n",
       "        vertical-align: middle;\n",
       "    }\n",
       "\n",
       "    .dataframe tbody tr th {\n",
       "        vertical-align: top;\n",
       "    }\n",
       "\n",
       "    .dataframe thead th {\n",
       "        text-align: right;\n",
       "    }\n",
       "</style>\n",
       "<table border=\"1\" class=\"dataframe\">\n",
       "  <thead>\n",
       "    <tr style=\"text-align: right;\">\n",
       "      <th></th>\n",
       "      <th>writer</th>\n",
       "      <th>body</th>\n",
       "      <th>comment_num</th>\n",
       "      <th>retweet_num</th>\n",
       "      <th>like_num</th>\n",
       "      <th>ticker_symbol</th>\n",
       "      <th>day_date</th>\n",
       "    </tr>\n",
       "  </thead>\n",
       "  <tbody>\n",
       "    <tr>\n",
       "      <th>0</th>\n",
       "      <td>VisualStockRSRC</td>\n",
       "      <td>lx21 made $10,008  on $AAPL -Check it out! htt...</td>\n",
       "      <td>0</td>\n",
       "      <td>0</td>\n",
       "      <td>1</td>\n",
       "      <td>AAPL</td>\n",
       "      <td>2015-01-01</td>\n",
       "    </tr>\n",
       "    <tr>\n",
       "      <th>1</th>\n",
       "      <td>KeralaGuy77</td>\n",
       "      <td>Insanity of today weirdo massive selling. $aap...</td>\n",
       "      <td>0</td>\n",
       "      <td>0</td>\n",
       "      <td>0</td>\n",
       "      <td>AAPL</td>\n",
       "      <td>2015-01-01</td>\n",
       "    </tr>\n",
       "    <tr>\n",
       "      <th>2</th>\n",
       "      <td>DozenStocks</td>\n",
       "      <td>S&amp;P100 #Stocks Performance $HD $LOW $SBUX $TGT...</td>\n",
       "      <td>0</td>\n",
       "      <td>0</td>\n",
       "      <td>0</td>\n",
       "      <td>AMZN</td>\n",
       "      <td>2015-01-01</td>\n",
       "    </tr>\n",
       "    <tr>\n",
       "      <th>3</th>\n",
       "      <td>ShowDreamCar</td>\n",
       "      <td>$GM $TSLA: Volkswagen Pushes 2014 Record Recal...</td>\n",
       "      <td>0</td>\n",
       "      <td>0</td>\n",
       "      <td>1</td>\n",
       "      <td>TSLA</td>\n",
       "      <td>2015-01-01</td>\n",
       "    </tr>\n",
       "    <tr>\n",
       "      <th>4</th>\n",
       "      <td>i_Know_First</td>\n",
       "      <td>Swing Trading: Up To 8.91% Return In 14 Days h...</td>\n",
       "      <td>0</td>\n",
       "      <td>0</td>\n",
       "      <td>1</td>\n",
       "      <td>AAPL</td>\n",
       "      <td>2015-01-01</td>\n",
       "    </tr>\n",
       "  </tbody>\n",
       "</table>\n",
       "</div>"
      ],
      "text/plain": [
       "            writer                                               body  \\\n",
       "0  VisualStockRSRC  lx21 made $10,008  on $AAPL -Check it out! htt...   \n",
       "1      KeralaGuy77  Insanity of today weirdo massive selling. $aap...   \n",
       "2      DozenStocks  S&P100 #Stocks Performance $HD $LOW $SBUX $TGT...   \n",
       "3     ShowDreamCar  $GM $TSLA: Volkswagen Pushes 2014 Record Recal...   \n",
       "4     i_Know_First  Swing Trading: Up To 8.91% Return In 14 Days h...   \n",
       "\n",
       "   comment_num  retweet_num  like_num ticker_symbol    day_date  \n",
       "0            0            0         1          AAPL  2015-01-01  \n",
       "1            0            0         0          AAPL  2015-01-01  \n",
       "2            0            0         0          AMZN  2015-01-01  \n",
       "3            0            0         1          TSLA  2015-01-01  \n",
       "4            0            0         1          AAPL  2015-01-01  "
      ]
     },
     "execution_count": 15,
     "metadata": {},
     "output_type": "execute_result"
    }
   ],
   "source": [
    "MASTER_DATA_SET_OF_TWEETS.head()"
   ]
  },
  {
   "cell_type": "code",
   "execution_count": 16,
   "id": "8f576cb6-0404-4bba-b1c5-8aa0cb51fcdc",
   "metadata": {},
   "outputs": [
    {
     "data": {
      "text/html": [
       "<div>\n",
       "<style scoped>\n",
       "    .dataframe tbody tr th:only-of-type {\n",
       "        vertical-align: middle;\n",
       "    }\n",
       "\n",
       "    .dataframe tbody tr th {\n",
       "        vertical-align: top;\n",
       "    }\n",
       "\n",
       "    .dataframe thead th {\n",
       "        text-align: right;\n",
       "    }\n",
       "</style>\n",
       "<table border=\"1\" class=\"dataframe\">\n",
       "  <thead>\n",
       "    <tr style=\"text-align: right;\">\n",
       "      <th></th>\n",
       "      <th>ticker_symbol</th>\n",
       "      <th>day_date</th>\n",
       "      <th>close_value</th>\n",
       "      <th>volume</th>\n",
       "      <th>open_value</th>\n",
       "      <th>high_value</th>\n",
       "      <th>low_value</th>\n",
       "      <th>price_movement</th>\n",
       "    </tr>\n",
       "  </thead>\n",
       "  <tbody>\n",
       "    <tr>\n",
       "      <th>0</th>\n",
       "      <td>AAPL</td>\n",
       "      <td>2020-05-29</td>\n",
       "      <td>317.94</td>\n",
       "      <td>38399530</td>\n",
       "      <td>319.25</td>\n",
       "      <td>321.15</td>\n",
       "      <td>316.47</td>\n",
       "      <td>1</td>\n",
       "    </tr>\n",
       "    <tr>\n",
       "      <th>1</th>\n",
       "      <td>AAPL</td>\n",
       "      <td>2020-05-28</td>\n",
       "      <td>318.25</td>\n",
       "      <td>33449100</td>\n",
       "      <td>316.77</td>\n",
       "      <td>323.44</td>\n",
       "      <td>315.63</td>\n",
       "      <td>1</td>\n",
       "    </tr>\n",
       "    <tr>\n",
       "      <th>2</th>\n",
       "      <td>AAPL</td>\n",
       "      <td>2020-05-27</td>\n",
       "      <td>318.11</td>\n",
       "      <td>28236270</td>\n",
       "      <td>316.14</td>\n",
       "      <td>318.71</td>\n",
       "      <td>313.09</td>\n",
       "      <td>0</td>\n",
       "    </tr>\n",
       "    <tr>\n",
       "      <th>3</th>\n",
       "      <td>AAPL</td>\n",
       "      <td>2020-05-26</td>\n",
       "      <td>316.73</td>\n",
       "      <td>31380450</td>\n",
       "      <td>323.50</td>\n",
       "      <td>324.24</td>\n",
       "      <td>316.50</td>\n",
       "      <td>0</td>\n",
       "    </tr>\n",
       "    <tr>\n",
       "      <th>4</th>\n",
       "      <td>AAPL</td>\n",
       "      <td>2020-05-22</td>\n",
       "      <td>318.89</td>\n",
       "      <td>20450750</td>\n",
       "      <td>315.77</td>\n",
       "      <td>319.23</td>\n",
       "      <td>315.35</td>\n",
       "      <td>1</td>\n",
       "    </tr>\n",
       "  </tbody>\n",
       "</table>\n",
       "</div>"
      ],
      "text/plain": [
       "  ticker_symbol    day_date  close_value    volume  open_value  high_value  \\\n",
       "0          AAPL  2020-05-29       317.94  38399530      319.25      321.15   \n",
       "1          AAPL  2020-05-28       318.25  33449100      316.77      323.44   \n",
       "2          AAPL  2020-05-27       318.11  28236270      316.14      318.71   \n",
       "3          AAPL  2020-05-26       316.73  31380450      323.50      324.24   \n",
       "4          AAPL  2020-05-22       318.89  20450750      315.77      319.23   \n",
       "\n",
       "   low_value  price_movement  \n",
       "0     316.47               1  \n",
       "1     315.63               1  \n",
       "2     313.09               0  \n",
       "3     316.50               0  \n",
       "4     315.35               1  "
      ]
     },
     "execution_count": 16,
     "metadata": {},
     "output_type": "execute_result"
    }
   ],
   "source": [
    "CompanyValuesData.head()"
   ]
  },
  {
   "cell_type": "code",
   "execution_count": 17,
   "id": "c4afdb32-1359-4dbe-80db-f127f3c95c03",
   "metadata": {},
   "outputs": [],
   "source": [
    "recentCompanyValuesData = []\n",
    "count=0\n",
    "\n",
    "for ind in CompanyValuesData.index:\n",
    "    day_date = CompanyValuesData['day_date'][ind]\n",
    "    if(int(day_date[:4])>=2015):\n",
    "        recentCompanyValuesData.append(CompanyValuesData.iloc[ind])\n",
    "    else:\n",
    "        count+=1\n",
    "\n",
    "updatedRecentCompanyValuesData = pd.DataFrame(recentCompanyValuesData) "
   ]
  },
  {
   "cell_type": "code",
   "execution_count": 18,
   "id": "fa7b5ca6-93f8-4f00-9b9b-4075b84ee69e",
   "metadata": {},
   "outputs": [],
   "source": [
    "MASTER_DATA_SET = pd.merge(MASTER_DATA_SET_OF_TWEETS,updatedRecentCompanyValuesData,on=['day_date','ticker_symbol'])"
   ]
  },
  {
   "cell_type": "code",
   "execution_count": 19,
   "id": "293ffcad-49b1-4e9b-9740-5be261184e81",
   "metadata": {},
   "outputs": [],
   "source": [
    "Label = MASTER_DATA_SET.pop('price_movement')"
   ]
  },
  {
   "cell_type": "code",
   "execution_count": 20,
   "id": "0e78d5bb-d39b-4acc-a091-ad5f50343bfc",
   "metadata": {},
   "outputs": [
    {
     "data": {
      "text/html": [
       "<div>\n",
       "<style scoped>\n",
       "    .dataframe tbody tr th:only-of-type {\n",
       "        vertical-align: middle;\n",
       "    }\n",
       "\n",
       "    .dataframe tbody tr th {\n",
       "        vertical-align: top;\n",
       "    }\n",
       "\n",
       "    .dataframe thead th {\n",
       "        text-align: right;\n",
       "    }\n",
       "</style>\n",
       "<table border=\"1\" class=\"dataframe\">\n",
       "  <thead>\n",
       "    <tr style=\"text-align: right;\">\n",
       "      <th></th>\n",
       "      <th>writer</th>\n",
       "      <th>body</th>\n",
       "      <th>comment_num</th>\n",
       "      <th>retweet_num</th>\n",
       "      <th>like_num</th>\n",
       "      <th>ticker_symbol</th>\n",
       "      <th>day_date</th>\n",
       "      <th>close_value</th>\n",
       "      <th>volume</th>\n",
       "      <th>open_value</th>\n",
       "      <th>high_value</th>\n",
       "      <th>low_value</th>\n",
       "    </tr>\n",
       "  </thead>\n",
       "  <tbody>\n",
       "    <tr>\n",
       "      <th>0</th>\n",
       "      <td>VisualStockRSRC</td>\n",
       "      <td>lx21 made $10,008  on $AAPL -Check it out! htt...</td>\n",
       "      <td>0</td>\n",
       "      <td>0</td>\n",
       "      <td>1</td>\n",
       "      <td>AAPL</td>\n",
       "      <td>2015-01-01</td>\n",
       "      <td>110.38</td>\n",
       "      <td>41304780</td>\n",
       "      <td>112.82</td>\n",
       "      <td>113.13</td>\n",
       "      <td>110.21</td>\n",
       "    </tr>\n",
       "    <tr>\n",
       "      <th>1</th>\n",
       "      <td>KeralaGuy77</td>\n",
       "      <td>Insanity of today weirdo massive selling. $aap...</td>\n",
       "      <td>0</td>\n",
       "      <td>0</td>\n",
       "      <td>0</td>\n",
       "      <td>AAPL</td>\n",
       "      <td>2015-01-01</td>\n",
       "      <td>110.38</td>\n",
       "      <td>41304780</td>\n",
       "      <td>112.82</td>\n",
       "      <td>113.13</td>\n",
       "      <td>110.21</td>\n",
       "    </tr>\n",
       "    <tr>\n",
       "      <th>2</th>\n",
       "      <td>i_Know_First</td>\n",
       "      <td>Swing Trading: Up To 8.91% Return In 14 Days h...</td>\n",
       "      <td>0</td>\n",
       "      <td>0</td>\n",
       "      <td>1</td>\n",
       "      <td>AAPL</td>\n",
       "      <td>2015-01-01</td>\n",
       "      <td>110.38</td>\n",
       "      <td>41304780</td>\n",
       "      <td>112.82</td>\n",
       "      <td>113.13</td>\n",
       "      <td>110.21</td>\n",
       "    </tr>\n",
       "    <tr>\n",
       "      <th>3</th>\n",
       "      <td>aaplstocknews</td>\n",
       "      <td>Swing Trading: Up To 8.91% Return In 14 Days h...</td>\n",
       "      <td>0</td>\n",
       "      <td>0</td>\n",
       "      <td>1</td>\n",
       "      <td>AAPL</td>\n",
       "      <td>2015-01-01</td>\n",
       "      <td>110.38</td>\n",
       "      <td>41304780</td>\n",
       "      <td>112.82</td>\n",
       "      <td>113.13</td>\n",
       "      <td>110.21</td>\n",
       "    </tr>\n",
       "    <tr>\n",
       "      <th>4</th>\n",
       "      <td>iknowfirst</td>\n",
       "      <td>Swing Trading: Up To 8.91% Return In 14 Days h...</td>\n",
       "      <td>0</td>\n",
       "      <td>0</td>\n",
       "      <td>1</td>\n",
       "      <td>AAPL</td>\n",
       "      <td>2015-01-01</td>\n",
       "      <td>110.38</td>\n",
       "      <td>41304780</td>\n",
       "      <td>112.82</td>\n",
       "      <td>113.13</td>\n",
       "      <td>110.21</td>\n",
       "    </tr>\n",
       "    <tr>\n",
       "      <th>...</th>\n",
       "      <td>...</td>\n",
       "      <td>...</td>\n",
       "      <td>...</td>\n",
       "      <td>...</td>\n",
       "      <td>...</td>\n",
       "      <td>...</td>\n",
       "      <td>...</td>\n",
       "      <td>...</td>\n",
       "      <td>...</td>\n",
       "      <td>...</td>\n",
       "      <td>...</td>\n",
       "      <td>...</td>\n",
       "    </tr>\n",
       "    <tr>\n",
       "      <th>4335719</th>\n",
       "      <td>jedimarkus77</td>\n",
       "      <td>So bullish.... $GOOG $GOOGL</td>\n",
       "      <td>0</td>\n",
       "      <td>0</td>\n",
       "      <td>7</td>\n",
       "      <td>GOOGL</td>\n",
       "      <td>2019-12-31</td>\n",
       "      <td>1339.39</td>\n",
       "      <td>976061</td>\n",
       "      <td>1335.79</td>\n",
       "      <td>1340.66</td>\n",
       "      <td>1332.13</td>\n",
       "    </tr>\n",
       "    <tr>\n",
       "      <th>4335720</th>\n",
       "      <td>StckPro</td>\n",
       "      <td>$GOOGL NEW ARTICLE : Did YouTube Delete Bitcoi...</td>\n",
       "      <td>0</td>\n",
       "      <td>0</td>\n",
       "      <td>0</td>\n",
       "      <td>GOOGL</td>\n",
       "      <td>2019-12-31</td>\n",
       "      <td>1339.39</td>\n",
       "      <td>976061</td>\n",
       "      <td>1335.79</td>\n",
       "      <td>1340.66</td>\n",
       "      <td>1332.13</td>\n",
       "    </tr>\n",
       "    <tr>\n",
       "      <th>4335721</th>\n",
       "      <td>AsianOptionGirl</td>\n",
       "      <td>Today, after the bigly failed Trump stock pump...</td>\n",
       "      <td>0</td>\n",
       "      <td>1</td>\n",
       "      <td>3</td>\n",
       "      <td>GOOGL</td>\n",
       "      <td>2019-12-31</td>\n",
       "      <td>1339.39</td>\n",
       "      <td>976061</td>\n",
       "      <td>1335.79</td>\n",
       "      <td>1340.66</td>\n",
       "      <td>1332.13</td>\n",
       "    </tr>\n",
       "    <tr>\n",
       "      <th>4335722</th>\n",
       "      <td>peregrin_go</td>\n",
       "      <td>@kopin shareholders must do #DueDiligence.  $K...</td>\n",
       "      <td>1</td>\n",
       "      <td>0</td>\n",
       "      <td>1</td>\n",
       "      <td>GOOGL</td>\n",
       "      <td>2019-12-31</td>\n",
       "      <td>1339.39</td>\n",
       "      <td>976061</td>\n",
       "      <td>1335.79</td>\n",
       "      <td>1340.66</td>\n",
       "      <td>1332.13</td>\n",
       "    </tr>\n",
       "    <tr>\n",
       "      <th>4335723</th>\n",
       "      <td>AskGeorgeBailey</td>\n",
       "      <td>$fb $amzn had an impressive Q2$googl was nice ...</td>\n",
       "      <td>0</td>\n",
       "      <td>0</td>\n",
       "      <td>1</td>\n",
       "      <td>GOOGL</td>\n",
       "      <td>2019-12-31</td>\n",
       "      <td>1339.39</td>\n",
       "      <td>976061</td>\n",
       "      <td>1335.79</td>\n",
       "      <td>1340.66</td>\n",
       "      <td>1332.13</td>\n",
       "    </tr>\n",
       "  </tbody>\n",
       "</table>\n",
       "<p>4335724 rows × 12 columns</p>\n",
       "</div>"
      ],
      "text/plain": [
       "                  writer                                               body  \\\n",
       "0        VisualStockRSRC  lx21 made $10,008  on $AAPL -Check it out! htt...   \n",
       "1            KeralaGuy77  Insanity of today weirdo massive selling. $aap...   \n",
       "2           i_Know_First  Swing Trading: Up To 8.91% Return In 14 Days h...   \n",
       "3          aaplstocknews  Swing Trading: Up To 8.91% Return In 14 Days h...   \n",
       "4             iknowfirst  Swing Trading: Up To 8.91% Return In 14 Days h...   \n",
       "...                  ...                                                ...   \n",
       "4335719     jedimarkus77                        So bullish.... $GOOG $GOOGL   \n",
       "4335720          StckPro  $GOOGL NEW ARTICLE : Did YouTube Delete Bitcoi...   \n",
       "4335721  AsianOptionGirl  Today, after the bigly failed Trump stock pump...   \n",
       "4335722      peregrin_go  @kopin shareholders must do #DueDiligence.  $K...   \n",
       "4335723  AskGeorgeBailey  $fb $amzn had an impressive Q2$googl was nice ...   \n",
       "\n",
       "         comment_num  retweet_num  like_num ticker_symbol    day_date  \\\n",
       "0                  0            0         1          AAPL  2015-01-01   \n",
       "1                  0            0         0          AAPL  2015-01-01   \n",
       "2                  0            0         1          AAPL  2015-01-01   \n",
       "3                  0            0         1          AAPL  2015-01-01   \n",
       "4                  0            0         1          AAPL  2015-01-01   \n",
       "...              ...          ...       ...           ...         ...   \n",
       "4335719            0            0         7         GOOGL  2019-12-31   \n",
       "4335720            0            0         0         GOOGL  2019-12-31   \n",
       "4335721            0            1         3         GOOGL  2019-12-31   \n",
       "4335722            1            0         1         GOOGL  2019-12-31   \n",
       "4335723            0            0         1         GOOGL  2019-12-31   \n",
       "\n",
       "         close_value    volume  open_value  high_value  low_value  \n",
       "0             110.38  41304780      112.82      113.13     110.21  \n",
       "1             110.38  41304780      112.82      113.13     110.21  \n",
       "2             110.38  41304780      112.82      113.13     110.21  \n",
       "3             110.38  41304780      112.82      113.13     110.21  \n",
       "4             110.38  41304780      112.82      113.13     110.21  \n",
       "...              ...       ...         ...         ...        ...  \n",
       "4335719      1339.39    976061     1335.79     1340.66    1332.13  \n",
       "4335720      1339.39    976061     1335.79     1340.66    1332.13  \n",
       "4335721      1339.39    976061     1335.79     1340.66    1332.13  \n",
       "4335722      1339.39    976061     1335.79     1340.66    1332.13  \n",
       "4335723      1339.39    976061     1335.79     1340.66    1332.13  \n",
       "\n",
       "[4335724 rows x 12 columns]"
      ]
     },
     "execution_count": 20,
     "metadata": {},
     "output_type": "execute_result"
    }
   ],
   "source": [
    "MASTER_DATA_SET"
   ]
  },
  {
   "cell_type": "code",
   "execution_count": 59,
   "id": "7fa7b573-601e-49e7-9de5-24db5431b2c9",
   "metadata": {},
   "outputs": [],
   "source": [
    "import sklearn.model_selection as model_selection\n",
    "X_train, X_test, y_train, y_test = model_selection.train_test_split(MASTER_DATA_SET, Label, train_size=0.65, random_state=69)\n",
    "#print (\"X_train: \", X_train)\n",
    "#print (\"y_train: \", y_train)\n",
    "#print(\"X_test: \", X_test)\n",
    "#print (\"y_test: \", y_test)"
   ]
  },
  {
   "cell_type": "code",
   "execution_count": 60,
   "id": "f45d5661-8cfb-4302-90ba-4b7819412679",
   "metadata": {},
   "outputs": [],
   "source": [
    "################################################################# PREP ###################################################################"
   ]
  },
  {
   "cell_type": "code",
   "execution_count": 211,
   "id": "1932c11a-c39d-4041-8fb9-7e3ce88c1d8e",
   "metadata": {},
   "outputs": [],
   "source": [
    "Tweet_body_df = X_train['body']\n",
    "pre_processed_Tweet_body_list = []"
   ]
  },
  {
   "cell_type": "code",
   "execution_count": null,
   "id": "9140e35a-2f8b-447a-a6a9-8844f44e8021",
   "metadata": {},
   "outputs": [],
   "source": [
    "import re                                \n",
    "import string                             \n",
    "\n",
    "from nltk.corpus import stopwords  \n",
    "from nltk.stem.snowball import SnowballStemmer\n",
    "\n",
    "begintime = time.time()\n",
    "english_stopwords = stopwords.words('english')\n",
    "snow_stemmer = SnowballStemmer(language='english')\n",
    "count = 0\n",
    "#lenght of largest tweet = 57 words\n",
    "for ind in range(1,len(Tweet_body_df)):\n",
    "    tweet = Tweet_body_df.iloc[ind]\n",
    "    tweet = re.sub(r'https?:\\/\\/.*[\\r\\n]*', '', tweet)\n",
    "    tweet = re.sub('[^a-zA-z]',' ',tweet)\n",
    "    tweet = tweet.split()\n",
    "    tweet = [snow_stemmer.stem(i.lower()) for i in tweet if i not in english_stopwords]\n",
    "    tweet = list(set(tweet))\n",
    "    len_to_pad = 58 - len(tweet)\n",
    "    pad_list = [ \"*\" for i in range(len_to_pad)]\n",
    "    tweet += pad_list\n",
    "    tweet_str = \" \".join(tweet)\n",
    "    pre_processed_Tweet_body_list.append(tweet_str)\n",
    "\n",
    "end = time.time()\n",
    "# total time taken\n",
    "print(f\"Total runtime of the program is {end - begintime}\")"
   ]
  },
  {
   "cell_type": "code",
   "execution_count": null,
   "id": "b673616e-f387-4f4d-bfef-7bbc06fc570c",
   "metadata": {
    "tags": []
   },
   "outputs": [],
   "source": [
    "pre_processed_Tweet_body_df = pd.DataFrame(pre_processed_Tweet_body_list,columns=[\"Pre-Processed-Body\"])\n",
    "print(pre_processed_Tweet_body_df)"
   ]
  },
  {
   "cell_type": "code",
   "execution_count": null,
   "id": "9fb89421-1a3b-42cb-a7a5-0d5f121fc3b9",
   "metadata": {},
   "outputs": [],
   "source": [
    "################ TEXT PRE PROCESSING COMPLETE ##########################"
   ]
  }
 ],
 "metadata": {
  "kernelspec": {
   "display_name": "Python 3",
   "language": "python",
   "name": "python3"
  },
  "language_info": {
   "codemirror_mode": {
    "name": "ipython",
    "version": 3
   },
   "file_extension": ".py",
   "mimetype": "text/x-python",
   "name": "python",
   "nbconvert_exporter": "python",
   "pygments_lexer": "ipython3",
   "version": "3.9.4"
  }
 },
 "nbformat": 4,
 "nbformat_minor": 5
}
