{
 "cells": [
  {
   "cell_type": "code",
   "execution_count": 76,
   "id": "e02299d7-10f1-4851-aa75-dcb49f3cafd1",
   "metadata": {},
   "outputs": [],
   "source": [
    "# FILE READING\n",
    "import pandas as pd\n",
    "import re\n",
    "from tqdm.notebook import tqdm, trange"
   ]
  },
  {
   "cell_type": "code",
   "execution_count": null,
   "id": "6d8eed23-4a98-430f-8a86-a070aa040ecd",
   "metadata": {},
   "outputs": [],
   "source": [
    "pd.options.mode.chained_assignment = None  # default='warn'\n",
    "TweetData = pd.read_csv(\"Tweet.csv\")\n",
    "CompanyData = pd.read_csv(\"Company.csv\")\n",
    "Company_TweetData = pd.read_csv(\"Company_Tweet.csv\")\n",
    "CompanyValuesData = pd.read_csv(\"CompanyValues.csv\")"
   ]
  },
  {
   "cell_type": "code",
   "execution_count": 2,
   "id": "81386beb-03db-4123-b78a-3b2c7f91cfb3",
   "metadata": {
    "tags": []
   },
   "outputs": [
    {
     "name": "stdout",
     "output_type": "stream",
     "text": [
      "(3717964, 7) (6, 2) (4336445, 2) (17528, 7)\n"
     ]
    }
   ],
   "source": [
    "print(TweetData.shape,CompanyData.shape,Company_TweetData.shape,CompanyValuesData.shape)"
   ]
  },
  {
   "cell_type": "code",
   "execution_count": 10,
   "id": "9cb9e668-af0a-4fae-b710-77ec35a1ea31",
   "metadata": {},
   "outputs": [
    {
     "data": {
      "text/html": [
       "<div>\n",
       "<style scoped>\n",
       "    .dataframe tbody tr th:only-of-type {\n",
       "        vertical-align: middle;\n",
       "    }\n",
       "\n",
       "    .dataframe tbody tr th {\n",
       "        vertical-align: top;\n",
       "    }\n",
       "\n",
       "    .dataframe thead th {\n",
       "        text-align: right;\n",
       "    }\n",
       "</style>\n",
       "<table border=\"1\" class=\"dataframe\">\n",
       "  <thead>\n",
       "    <tr style=\"text-align: right;\">\n",
       "      <th></th>\n",
       "      <th>tweet_id</th>\n",
       "      <th>writer</th>\n",
       "      <th>post_date</th>\n",
       "      <th>body</th>\n",
       "      <th>comment_num</th>\n",
       "      <th>retweet_num</th>\n",
       "      <th>like_num</th>\n",
       "    </tr>\n",
       "  </thead>\n",
       "  <tbody>\n",
       "    <tr>\n",
       "      <th>0</th>\n",
       "      <td>550441509175443456</td>\n",
       "      <td>VisualStockRSRC</td>\n",
       "      <td>1420070457</td>\n",
       "      <td>lx21 made $10,008  on $AAPL -Check it out! htt...</td>\n",
       "      <td>0</td>\n",
       "      <td>0</td>\n",
       "      <td>1</td>\n",
       "    </tr>\n",
       "    <tr>\n",
       "      <th>1</th>\n",
       "      <td>550441672312512512</td>\n",
       "      <td>KeralaGuy77</td>\n",
       "      <td>1420070496</td>\n",
       "      <td>Insanity of today weirdo massive selling. $aap...</td>\n",
       "      <td>0</td>\n",
       "      <td>0</td>\n",
       "      <td>0</td>\n",
       "    </tr>\n",
       "    <tr>\n",
       "      <th>2</th>\n",
       "      <td>550441732014223360</td>\n",
       "      <td>DozenStocks</td>\n",
       "      <td>1420070510</td>\n",
       "      <td>S&amp;P100 #Stocks Performance $HD $LOW $SBUX $TGT...</td>\n",
       "      <td>0</td>\n",
       "      <td>0</td>\n",
       "      <td>0</td>\n",
       "    </tr>\n",
       "    <tr>\n",
       "      <th>3</th>\n",
       "      <td>550442977802207232</td>\n",
       "      <td>ShowDreamCar</td>\n",
       "      <td>1420070807</td>\n",
       "      <td>$GM $TSLA: Volkswagen Pushes 2014 Record Recal...</td>\n",
       "      <td>0</td>\n",
       "      <td>0</td>\n",
       "      <td>1</td>\n",
       "    </tr>\n",
       "    <tr>\n",
       "      <th>4</th>\n",
       "      <td>550443807834402816</td>\n",
       "      <td>i_Know_First</td>\n",
       "      <td>1420071005</td>\n",
       "      <td>Swing Trading: Up To 8.91% Return In 14 Days h...</td>\n",
       "      <td>0</td>\n",
       "      <td>0</td>\n",
       "      <td>1</td>\n",
       "    </tr>\n",
       "  </tbody>\n",
       "</table>\n",
       "</div>"
      ],
      "text/plain": [
       "             tweet_id           writer   post_date  \\\n",
       "0  550441509175443456  VisualStockRSRC  1420070457   \n",
       "1  550441672312512512      KeralaGuy77  1420070496   \n",
       "2  550441732014223360      DozenStocks  1420070510   \n",
       "3  550442977802207232     ShowDreamCar  1420070807   \n",
       "4  550443807834402816     i_Know_First  1420071005   \n",
       "\n",
       "                                                body  comment_num  \\\n",
       "0  lx21 made $10,008  on $AAPL -Check it out! htt...            0   \n",
       "1  Insanity of today weirdo massive selling. $aap...            0   \n",
       "2  S&P100 #Stocks Performance $HD $LOW $SBUX $TGT...            0   \n",
       "3  $GM $TSLA: Volkswagen Pushes 2014 Record Recal...            0   \n",
       "4  Swing Trading: Up To 8.91% Return In 14 Days h...            0   \n",
       "\n",
       "   retweet_num  like_num  \n",
       "0            0         1  \n",
       "1            0         0  \n",
       "2            0         0  \n",
       "3            0         1  \n",
       "4            0         1  "
      ]
     },
     "metadata": {},
     "output_type": "display_data"
    },
    {
     "data": {
      "text/html": [
       "<div>\n",
       "<style scoped>\n",
       "    .dataframe tbody tr th:only-of-type {\n",
       "        vertical-align: middle;\n",
       "    }\n",
       "\n",
       "    .dataframe tbody tr th {\n",
       "        vertical-align: top;\n",
       "    }\n",
       "\n",
       "    .dataframe thead th {\n",
       "        text-align: right;\n",
       "    }\n",
       "</style>\n",
       "<table border=\"1\" class=\"dataframe\">\n",
       "  <thead>\n",
       "    <tr style=\"text-align: right;\">\n",
       "      <th></th>\n",
       "      <th>tweet_id</th>\n",
       "      <th>ticker_symbol</th>\n",
       "    </tr>\n",
       "  </thead>\n",
       "  <tbody>\n",
       "    <tr>\n",
       "      <th>0</th>\n",
       "      <td>550803612197457920</td>\n",
       "      <td>AAPL</td>\n",
       "    </tr>\n",
       "    <tr>\n",
       "      <th>1</th>\n",
       "      <td>550803610825928706</td>\n",
       "      <td>AAPL</td>\n",
       "    </tr>\n",
       "    <tr>\n",
       "      <th>2</th>\n",
       "      <td>550803225113157632</td>\n",
       "      <td>AAPL</td>\n",
       "    </tr>\n",
       "    <tr>\n",
       "      <th>3</th>\n",
       "      <td>550802957370159104</td>\n",
       "      <td>AAPL</td>\n",
       "    </tr>\n",
       "    <tr>\n",
       "      <th>4</th>\n",
       "      <td>550802855129382912</td>\n",
       "      <td>AAPL</td>\n",
       "    </tr>\n",
       "  </tbody>\n",
       "</table>\n",
       "</div>"
      ],
      "text/plain": [
       "             tweet_id ticker_symbol\n",
       "0  550803612197457920          AAPL\n",
       "1  550803610825928706          AAPL\n",
       "2  550803225113157632          AAPL\n",
       "3  550802957370159104          AAPL\n",
       "4  550802855129382912          AAPL"
      ]
     },
     "metadata": {},
     "output_type": "display_data"
    },
    {
     "data": {
      "text/html": [
       "<div>\n",
       "<style scoped>\n",
       "    .dataframe tbody tr th:only-of-type {\n",
       "        vertical-align: middle;\n",
       "    }\n",
       "\n",
       "    .dataframe tbody tr th {\n",
       "        vertical-align: top;\n",
       "    }\n",
       "\n",
       "    .dataframe thead th {\n",
       "        text-align: right;\n",
       "    }\n",
       "</style>\n",
       "<table border=\"1\" class=\"dataframe\">\n",
       "  <thead>\n",
       "    <tr style=\"text-align: right;\">\n",
       "      <th></th>\n",
       "      <th>ticker_symbol</th>\n",
       "      <th>day_date</th>\n",
       "      <th>close_value</th>\n",
       "      <th>volume</th>\n",
       "      <th>open_value</th>\n",
       "      <th>high_value</th>\n",
       "      <th>low_value</th>\n",
       "      <th>price_movement</th>\n",
       "    </tr>\n",
       "  </thead>\n",
       "  <tbody>\n",
       "    <tr>\n",
       "      <th>0</th>\n",
       "      <td>AAPL</td>\n",
       "      <td>2020-05-29</td>\n",
       "      <td>317.94</td>\n",
       "      <td>38399530</td>\n",
       "      <td>319.25</td>\n",
       "      <td>321.15</td>\n",
       "      <td>316.47</td>\n",
       "      <td>1</td>\n",
       "    </tr>\n",
       "    <tr>\n",
       "      <th>1</th>\n",
       "      <td>AAPL</td>\n",
       "      <td>2020-05-28</td>\n",
       "      <td>318.25</td>\n",
       "      <td>33449100</td>\n",
       "      <td>316.77</td>\n",
       "      <td>323.44</td>\n",
       "      <td>315.63</td>\n",
       "      <td>1</td>\n",
       "    </tr>\n",
       "    <tr>\n",
       "      <th>2</th>\n",
       "      <td>AAPL</td>\n",
       "      <td>2020-05-27</td>\n",
       "      <td>318.11</td>\n",
       "      <td>28236270</td>\n",
       "      <td>316.14</td>\n",
       "      <td>318.71</td>\n",
       "      <td>313.09</td>\n",
       "      <td>0</td>\n",
       "    </tr>\n",
       "    <tr>\n",
       "      <th>3</th>\n",
       "      <td>AAPL</td>\n",
       "      <td>2020-05-26</td>\n",
       "      <td>316.73</td>\n",
       "      <td>31380450</td>\n",
       "      <td>323.50</td>\n",
       "      <td>324.24</td>\n",
       "      <td>316.50</td>\n",
       "      <td>0</td>\n",
       "    </tr>\n",
       "    <tr>\n",
       "      <th>4</th>\n",
       "      <td>AAPL</td>\n",
       "      <td>2020-05-22</td>\n",
       "      <td>318.89</td>\n",
       "      <td>20450750</td>\n",
       "      <td>315.77</td>\n",
       "      <td>319.23</td>\n",
       "      <td>315.35</td>\n",
       "      <td>1</td>\n",
       "    </tr>\n",
       "  </tbody>\n",
       "</table>\n",
       "</div>"
      ],
      "text/plain": [
       "  ticker_symbol    day_date  close_value    volume  open_value  high_value  \\\n",
       "0          AAPL  2020-05-29       317.94  38399530      319.25      321.15   \n",
       "1          AAPL  2020-05-28       318.25  33449100      316.77      323.44   \n",
       "2          AAPL  2020-05-27       318.11  28236270      316.14      318.71   \n",
       "3          AAPL  2020-05-26       316.73  31380450      323.50      324.24   \n",
       "4          AAPL  2020-05-22       318.89  20450750      315.77      319.23   \n",
       "\n",
       "   low_value  price_movement  \n",
       "0     316.47               1  \n",
       "1     315.63               1  \n",
       "2     313.09               0  \n",
       "3     316.50               0  \n",
       "4     315.35               1  "
      ]
     },
     "metadata": {},
     "output_type": "display_data"
    }
   ],
   "source": [
    "display(TweetData.head())\n",
    "display(Company_TweetData.head())\n",
    "display(CompanyValuesData.head())"
   ]
  },
  {
   "cell_type": "code",
   "execution_count": 11,
   "id": "a83afcfc-10cf-45c6-8741-db47314f8bb5",
   "metadata": {
    "tags": []
   },
   "outputs": [],
   "source": [
    "# SEPERATING PRICES INTO OPEN AND CLOSE TO CHECK ON WHICH DAYS WAS PRICE HIGHER THAN PREVIOUS DAY\n",
    "list_of_open_prices = CompanyValuesData['open_value']\n",
    "list_of_close_prices = CompanyValuesData['close_value']"
   ]
  },
  {
   "cell_type": "code",
   "execution_count": 12,
   "id": "43ba4c33-2d99-4cf7-8757-914f3f6e66b5",
   "metadata": {
    "tags": []
   },
   "outputs": [],
   "source": [
    "# CREATED A LABEL FOR THE DATASET BASED ON PRICE MOVEMENT\n",
    "# IF THE PRICE MOVES UP DURING THE DAY = POSITIVE -> 1\n",
    "# IF THE PRICE MOVES DOWN DURING THE DAY = NEGATIVE -> 0\n",
    "price_movement = []\n",
    "price_movement.append(1)\n",
    "for i in range(1,len(list_of_close_prices)):\n",
    "    if(list_of_close_prices[i-1] < list_of_close_prices[i]):\n",
    "        price_movement.append(1)\n",
    "    else:\n",
    "        price_movement.append(0)\n",
    "price_movement_df = pd.DataFrame(price_movement, columns = ['price_movement'])"
   ]
  },
  {
   "cell_type": "code",
   "execution_count": 13,
   "id": "7490c8b2-43ed-4388-90a9-738121b6ca7c",
   "metadata": {},
   "outputs": [],
   "source": [
    "# ADDING THE LABEL COLUMN TO THE DATASET\n",
    "CompanyValuesData[\"price_movement\"] = price_movement_df"
   ]
  },
  {
   "cell_type": "code",
   "execution_count": 14,
   "id": "8461c4e7-5788-4388-9d6e-75222abbdf3f",
   "metadata": {
    "tags": []
   },
   "outputs": [
    {
     "name": "stdout",
     "output_type": "stream",
     "text": [
      "Counter({'AAPL': 1425013, 'TSLA': 1096868, 'AMZN': 718715, 'GOOG': 392569, 'MSFT': 375711, 'GOOGL': 327569})\n"
     ]
    },
    {
     "data": {
      "text/plain": [
       "<AxesSubplot:>"
      ]
     },
     "execution_count": 14,
     "metadata": {},
     "output_type": "execute_result"
    },
    {
     "data": {
      "image/png": "[encoded data removed]",
      "text/plain": [
       "<Figure size 432x288 with 1 Axes>"
      ]
     },
     "metadata": {
      "needs_background": "light"
     },
     "output_type": "display_data"
    }
   ],
   "source": [
    "from collections import Counter\n",
    "companyTweets = Company_TweetData['ticker_symbol']\n",
    "companyNumberOfMentions = Counter(companyTweets)\n",
    "print(companyNumberOfMentions)\n",
    "df = pd.DataFrame.from_dict(companyNumberOfMentions, orient='index')\n",
    "df.plot(kind='bar')"
   ]
  },
  {
   "cell_type": "code",
   "execution_count": 41,
   "id": "58884c47-81cc-449d-aa6b-3b21c539514d",
   "metadata": {},
   "outputs": [],
   "source": [
    "# JOINING THE TWEET_DATA AND COMPANY_TWEET_DATA TO COMBINE THEM INTO A DATASET OF TWEETS\n",
    "MASTER_DATA_SET_OF_TWEETS = pd.merge(TweetData, Company_TweetData, on=\"tweet_id\")"
   ]
  },
  {
   "cell_type": "code",
   "execution_count": 42,
   "id": "707d5013-7bcd-4bca-8613-0d7dda1d7881",
   "metadata": {},
   "outputs": [
    {
     "name": "stdout",
     "output_type": "stream",
     "text": [
      "<class 'pandas.core.frame.DataFrame'>\n",
      "Int64Index: 4336445 entries, 0 to 4336444\n",
      "Data columns (total 6 columns):\n",
      " #   Column         Dtype \n",
      "---  ------         ----- \n",
      " 0   post_date      int64 \n",
      " 1   body           object\n",
      " 2   comment_num    int64 \n",
      " 3   retweet_num    int64 \n",
      " 4   like_num       int64 \n",
      " 5   ticker_symbol  object\n",
      "dtypes: int64(4), object(2)\n",
      "memory usage: 231.6+ MB\n"
     ]
    }
   ],
   "source": [
    "# REMOVING TWEET_ID SINCE IT WOULD HAVE NO IMPACT ON STOCK MOVEMENT\n",
    "MASTER_DATA_SET_OF_TWEETS = MASTER_DATA_SET_OF_TWEETS.drop(axis = 1, columns = ['tweet_id','writer'])\n",
    "MASTER_DATA_SET_OF_TWEETS.info()"
   ]
  },
  {
   "cell_type": "code",
   "execution_count": 43,
   "id": "075ddc27-dd6f-46a4-afbb-2846f366ae29",
   "metadata": {},
   "outputs": [],
   "source": [
    "set_of_all_timestamps = MASTER_DATA_SET_OF_TWEETS['post_date']\n",
    "\n",
    "# CONVERTING ALL TIMESTAMPS INTO DATES - SINCE IT'LL BE NEEDED FOR JOINING WITH COMPANY PRICE DATA\n",
    "from datetime import datetime\n",
    "day_date = []\n",
    "for i in set_of_all_timestamps:\n",
    "    dateFormatted = datetime.fromtimestamp(i).isoformat()\n",
    "    dateSliced = dateFormatted[:10]\n",
    "    day_date.append(dateSliced)\n",
    "    \n",
    "# REPLACING TIMESTAMPS WITH DATES    \n",
    "MASTER_DATA_SET_OF_TWEETS['day_date'] = day_date\n",
    "MASTER_DATA_SET_OF_TWEETS = MASTER_DATA_SET_OF_TWEETS.drop(axis = 1, columns = ['post_date'])"
   ]
  },
  {
   "cell_type": "code",
   "execution_count": 44,
   "id": "3fb2c8c8-03a4-45ab-8d28-fa9c443f12ea",
   "metadata": {},
   "outputs": [
    {
     "data": {
      "text/html": [
       "<div>\n",
       "<style scoped>\n",
       "    .dataframe tbody tr th:only-of-type {\n",
       "        vertical-align: middle;\n",
       "    }\n",
       "\n",
       "    .dataframe tbody tr th {\n",
       "        vertical-align: top;\n",
       "    }\n",
       "\n",
       "    .dataframe thead th {\n",
       "        text-align: right;\n",
       "    }\n",
       "</style>\n",
       "<table border=\"1\" class=\"dataframe\">\n",
       "  <thead>\n",
       "    <tr style=\"text-align: right;\">\n",
       "      <th></th>\n",
       "      <th>body</th>\n",
       "      <th>comment_num</th>\n",
       "      <th>retweet_num</th>\n",
       "      <th>like_num</th>\n",
       "      <th>ticker_symbol</th>\n",
       "      <th>day_date</th>\n",
       "    </tr>\n",
       "  </thead>\n",
       "  <tbody>\n",
       "    <tr>\n",
       "      <th>0</th>\n",
       "      <td>lx21 made $10,008  on $AAPL -Check it out! htt...</td>\n",
       "      <td>0</td>\n",
       "      <td>0</td>\n",
       "      <td>1</td>\n",
       "      <td>AAPL</td>\n",
       "      <td>2015-01-01</td>\n",
       "    </tr>\n",
       "    <tr>\n",
       "      <th>1</th>\n",
       "      <td>Insanity of today weirdo massive selling. $aap...</td>\n",
       "      <td>0</td>\n",
       "      <td>0</td>\n",
       "      <td>0</td>\n",
       "      <td>AAPL</td>\n",
       "      <td>2015-01-01</td>\n",
       "    </tr>\n",
       "    <tr>\n",
       "      <th>2</th>\n",
       "      <td>S&amp;P100 #Stocks Performance $HD $LOW $SBUX $TGT...</td>\n",
       "      <td>0</td>\n",
       "      <td>0</td>\n",
       "      <td>0</td>\n",
       "      <td>AMZN</td>\n",
       "      <td>2015-01-01</td>\n",
       "    </tr>\n",
       "    <tr>\n",
       "      <th>3</th>\n",
       "      <td>$GM $TSLA: Volkswagen Pushes 2014 Record Recal...</td>\n",
       "      <td>0</td>\n",
       "      <td>0</td>\n",
       "      <td>1</td>\n",
       "      <td>TSLA</td>\n",
       "      <td>2015-01-01</td>\n",
       "    </tr>\n",
       "    <tr>\n",
       "      <th>4</th>\n",
       "      <td>Swing Trading: Up To 8.91% Return In 14 Days h...</td>\n",
       "      <td>0</td>\n",
       "      <td>0</td>\n",
       "      <td>1</td>\n",
       "      <td>AAPL</td>\n",
       "      <td>2015-01-01</td>\n",
       "    </tr>\n",
       "  </tbody>\n",
       "</table>\n",
       "</div>"
      ],
      "text/plain": [
       "                                                body  comment_num  \\\n",
       "0  lx21 made $10,008  on $AAPL -Check it out! htt...            0   \n",
       "1  Insanity of today weirdo massive selling. $aap...            0   \n",
       "2  S&P100 #Stocks Performance $HD $LOW $SBUX $TGT...            0   \n",
       "3  $GM $TSLA: Volkswagen Pushes 2014 Record Recal...            0   \n",
       "4  Swing Trading: Up To 8.91% Return In 14 Days h...            0   \n",
       "\n",
       "   retweet_num  like_num ticker_symbol    day_date  \n",
       "0            0         1          AAPL  2015-01-01  \n",
       "1            0         0          AAPL  2015-01-01  \n",
       "2            0         0          AMZN  2015-01-01  \n",
       "3            0         1          TSLA  2015-01-01  \n",
       "4            0         1          AAPL  2015-01-01  "
      ]
     },
     "execution_count": 44,
     "metadata": {},
     "output_type": "execute_result"
    }
   ],
   "source": [
    "MASTER_DATA_SET_OF_TWEETS.head()"
   ]
  },
  {
   "cell_type": "code",
   "execution_count": 45,
   "id": "8f576cb6-0404-4bba-b1c5-8aa0cb51fcdc",
   "metadata": {},
   "outputs": [
    {
     "data": {
      "text/html": [
       "<div>\n",
       "<style scoped>\n",
       "    .dataframe tbody tr th:only-of-type {\n",
       "        vertical-align: middle;\n",
       "    }\n",
       "\n",
       "    .dataframe tbody tr th {\n",
       "        vertical-align: top;\n",
       "    }\n",
       "\n",
       "    .dataframe thead th {\n",
       "        text-align: right;\n",
       "    }\n",
       "</style>\n",
       "<table border=\"1\" class=\"dataframe\">\n",
       "  <thead>\n",
       "    <tr style=\"text-align: right;\">\n",
       "      <th></th>\n",
       "      <th>ticker_symbol</th>\n",
       "      <th>day_date</th>\n",
       "      <th>close_value</th>\n",
       "      <th>volume</th>\n",
       "      <th>open_value</th>\n",
       "      <th>high_value</th>\n",
       "      <th>low_value</th>\n",
       "      <th>price_movement</th>\n",
       "    </tr>\n",
       "  </thead>\n",
       "  <tbody>\n",
       "    <tr>\n",
       "      <th>0</th>\n",
       "      <td>AAPL</td>\n",
       "      <td>2020-05-29</td>\n",
       "      <td>317.94</td>\n",
       "      <td>38399530</td>\n",
       "      <td>319.25</td>\n",
       "      <td>321.15</td>\n",
       "      <td>316.47</td>\n",
       "      <td>1</td>\n",
       "    </tr>\n",
       "    <tr>\n",
       "      <th>1</th>\n",
       "      <td>AAPL</td>\n",
       "      <td>2020-05-28</td>\n",
       "      <td>318.25</td>\n",
       "      <td>33449100</td>\n",
       "      <td>316.77</td>\n",
       "      <td>323.44</td>\n",
       "      <td>315.63</td>\n",
       "      <td>1</td>\n",
       "    </tr>\n",
       "    <tr>\n",
       "      <th>2</th>\n",
       "      <td>AAPL</td>\n",
       "      <td>2020-05-27</td>\n",
       "      <td>318.11</td>\n",
       "      <td>28236270</td>\n",
       "      <td>316.14</td>\n",
       "      <td>318.71</td>\n",
       "      <td>313.09</td>\n",
       "      <td>0</td>\n",
       "    </tr>\n",
       "    <tr>\n",
       "      <th>3</th>\n",
       "      <td>AAPL</td>\n",
       "      <td>2020-05-26</td>\n",
       "      <td>316.73</td>\n",
       "      <td>31380450</td>\n",
       "      <td>323.50</td>\n",
       "      <td>324.24</td>\n",
       "      <td>316.50</td>\n",
       "      <td>0</td>\n",
       "    </tr>\n",
       "    <tr>\n",
       "      <th>4</th>\n",
       "      <td>AAPL</td>\n",
       "      <td>2020-05-22</td>\n",
       "      <td>318.89</td>\n",
       "      <td>20450750</td>\n",
       "      <td>315.77</td>\n",
       "      <td>319.23</td>\n",
       "      <td>315.35</td>\n",
       "      <td>1</td>\n",
       "    </tr>\n",
       "  </tbody>\n",
       "</table>\n",
       "</div>"
      ],
      "text/plain": [
       "  ticker_symbol    day_date  close_value    volume  open_value  high_value  \\\n",
       "0          AAPL  2020-05-29       317.94  38399530      319.25      321.15   \n",
       "1          AAPL  2020-05-28       318.25  33449100      316.77      323.44   \n",
       "2          AAPL  2020-05-27       318.11  28236270      316.14      318.71   \n",
       "3          AAPL  2020-05-26       316.73  31380450      323.50      324.24   \n",
       "4          AAPL  2020-05-22       318.89  20450750      315.77      319.23   \n",
       "\n",
       "   low_value  price_movement  \n",
       "0     316.47               1  \n",
       "1     315.63               1  \n",
       "2     313.09               0  \n",
       "3     316.50               0  \n",
       "4     315.35               1  "
      ]
     },
     "execution_count": 45,
     "metadata": {},
     "output_type": "execute_result"
    }
   ],
   "source": [
    "CompanyValuesData.head()"
   ]
  },
  {
   "cell_type": "code",
   "execution_count": 46,
   "id": "c4afdb32-1359-4dbe-80db-f127f3c95c03",
   "metadata": {},
   "outputs": [],
   "source": [
    "# SINCE COMPANY PRICE DATA WAS FOR PAST 10 YEARS (FROM 2010-2020) BUT WE ONLY NEED IT FOR 2015-2020\n",
    "# THEREFORE, DATASET NEEDED TO BE CLEANED\n",
    "\n",
    "recentCompanyValuesData = []\n",
    "count=0\n",
    "\n",
    "for ind in CompanyValuesData.index:\n",
    "    day_date = CompanyValuesData['day_date'][ind]\n",
    "    if(int(day_date[:4])>=2015):\n",
    "        recentCompanyValuesData.append(CompanyValuesData.iloc[ind])\n",
    "    else:\n",
    "        count+=1\n",
    "\n",
    "updatedRecentCompanyValuesData = pd.DataFrame(recentCompanyValuesData) "
   ]
  },
  {
   "cell_type": "code",
   "execution_count": 53,
   "id": "fa7b5ca6-93f8-4f00-9b9b-4075b84ee69e",
   "metadata": {},
   "outputs": [
    {
     "data": {
      "text/html": [
       "<div>\n",
       "<style scoped>\n",
       "    .dataframe tbody tr th:only-of-type {\n",
       "        vertical-align: middle;\n",
       "    }\n",
       "\n",
       "    .dataframe tbody tr th {\n",
       "        vertical-align: top;\n",
       "    }\n",
       "\n",
       "    .dataframe thead th {\n",
       "        text-align: right;\n",
       "    }\n",
       "</style>\n",
       "<table border=\"1\" class=\"dataframe\">\n",
       "  <thead>\n",
       "    <tr style=\"text-align: right;\">\n",
       "      <th></th>\n",
       "      <th>body</th>\n",
       "      <th>comment_num</th>\n",
       "      <th>retweet_num</th>\n",
       "      <th>like_num</th>\n",
       "      <th>ticker_symbol</th>\n",
       "      <th>day_date</th>\n",
       "      <th>close_value</th>\n",
       "      <th>volume</th>\n",
       "      <th>open_value</th>\n",
       "      <th>high_value</th>\n",
       "      <th>low_value</th>\n",
       "      <th>price_movement</th>\n",
       "    </tr>\n",
       "  </thead>\n",
       "  <tbody>\n",
       "    <tr>\n",
       "      <th>0</th>\n",
       "      <td>lx21 made $10,008  on $AAPL -Check it out! htt...</td>\n",
       "      <td>0</td>\n",
       "      <td>0</td>\n",
       "      <td>1</td>\n",
       "      <td>AAPL</td>\n",
       "      <td>2015-01-01</td>\n",
       "      <td>110.38</td>\n",
       "      <td>41304780</td>\n",
       "      <td>112.82</td>\n",
       "      <td>113.13</td>\n",
       "      <td>110.21</td>\n",
       "      <td>1</td>\n",
       "    </tr>\n",
       "    <tr>\n",
       "      <th>1</th>\n",
       "      <td>Insanity of today weirdo massive selling. $aap...</td>\n",
       "      <td>0</td>\n",
       "      <td>0</td>\n",
       "      <td>0</td>\n",
       "      <td>AAPL</td>\n",
       "      <td>2015-01-01</td>\n",
       "      <td>110.38</td>\n",
       "      <td>41304780</td>\n",
       "      <td>112.82</td>\n",
       "      <td>113.13</td>\n",
       "      <td>110.21</td>\n",
       "      <td>1</td>\n",
       "    </tr>\n",
       "    <tr>\n",
       "      <th>2</th>\n",
       "      <td>Swing Trading: Up To 8.91% Return In 14 Days h...</td>\n",
       "      <td>0</td>\n",
       "      <td>0</td>\n",
       "      <td>1</td>\n",
       "      <td>AAPL</td>\n",
       "      <td>2015-01-01</td>\n",
       "      <td>110.38</td>\n",
       "      <td>41304780</td>\n",
       "      <td>112.82</td>\n",
       "      <td>113.13</td>\n",
       "      <td>110.21</td>\n",
       "      <td>1</td>\n",
       "    </tr>\n",
       "    <tr>\n",
       "      <th>3</th>\n",
       "      <td>Swing Trading: Up To 8.91% Return In 14 Days h...</td>\n",
       "      <td>0</td>\n",
       "      <td>0</td>\n",
       "      <td>1</td>\n",
       "      <td>AAPL</td>\n",
       "      <td>2015-01-01</td>\n",
       "      <td>110.38</td>\n",
       "      <td>41304780</td>\n",
       "      <td>112.82</td>\n",
       "      <td>113.13</td>\n",
       "      <td>110.21</td>\n",
       "      <td>1</td>\n",
       "    </tr>\n",
       "    <tr>\n",
       "      <th>4</th>\n",
       "      <td>Swing Trading: Up To 8.91% Return In 14 Days h...</td>\n",
       "      <td>0</td>\n",
       "      <td>0</td>\n",
       "      <td>1</td>\n",
       "      <td>AAPL</td>\n",
       "      <td>2015-01-01</td>\n",
       "      <td>110.38</td>\n",
       "      <td>41304780</td>\n",
       "      <td>112.82</td>\n",
       "      <td>113.13</td>\n",
       "      <td>110.21</td>\n",
       "      <td>1</td>\n",
       "    </tr>\n",
       "  </tbody>\n",
       "</table>\n",
       "</div>"
      ],
      "text/plain": [
       "                                                body  comment_num  \\\n",
       "0  lx21 made $10,008  on $AAPL -Check it out! htt...            0   \n",
       "1  Insanity of today weirdo massive selling. $aap...            0   \n",
       "2  Swing Trading: Up To 8.91% Return In 14 Days h...            0   \n",
       "3  Swing Trading: Up To 8.91% Return In 14 Days h...            0   \n",
       "4  Swing Trading: Up To 8.91% Return In 14 Days h...            0   \n",
       "\n",
       "   retweet_num  like_num ticker_symbol    day_date  close_value    volume  \\\n",
       "0            0         1          AAPL  2015-01-01       110.38  41304780   \n",
       "1            0         0          AAPL  2015-01-01       110.38  41304780   \n",
       "2            0         1          AAPL  2015-01-01       110.38  41304780   \n",
       "3            0         1          AAPL  2015-01-01       110.38  41304780   \n",
       "4            0         1          AAPL  2015-01-01       110.38  41304780   \n",
       "\n",
       "   open_value  high_value  low_value  price_movement  \n",
       "0      112.82      113.13     110.21               1  \n",
       "1      112.82      113.13     110.21               1  \n",
       "2      112.82      113.13     110.21               1  \n",
       "3      112.82      113.13     110.21               1  \n",
       "4      112.82      113.13     110.21               1  "
      ]
     },
     "execution_count": 53,
     "metadata": {},
     "output_type": "execute_result"
    }
   ],
   "source": [
    "# COMBINING DIFFERENT TABLES INTO A SINGLE DATASET\n",
    "MASTER_DATA_SET = pd.merge(MASTER_DATA_SET_OF_TWEETS,updatedRecentCompanyValuesData,on=['day_date','ticker_symbol'])\n",
    "MASTER_DATA_SET.head()"
   ]
  },
  {
   "cell_type": "code",
   "execution_count": 54,
   "id": "293ffcad-49b1-4e9b-9740-5be261184e81",
   "metadata": {},
   "outputs": [],
   "source": [
    "# SEPERATING THE LABEL FROM THE MASTER DATASET\n",
    "Label = MASTER_DATA_SET.pop('price_movement')"
   ]
  },
  {
   "cell_type": "code",
   "execution_count": 55,
   "id": "3ada05cd-58a4-41bf-8dcb-e38ede13b276",
   "metadata": {
    "tags": []
   },
   "outputs": [],
   "source": [
    "# FUTHER REFINING THE DATASET - COALESCING 2 COLUMNS INTO ONE AND REMOVING THE OTHERS NOT REQUIRED ONES\n",
    "MASTER_DATA_SET['max_diff'] = MASTER_DATA_SET['high_value'] - MASTER_DATA_SET['low_value']\n",
    "MASTER_DATA_SET = MASTER_DATA_SET.drop(axis = 1, columns = ['low_value','high_value','ticker_symbol'])"
   ]
  },
  {
   "cell_type": "code",
   "execution_count": 56,
   "id": "5ff90e93-d113-418a-b916-2cb305ce778e",
   "metadata": {},
   "outputs": [
    {
     "name": "stdout",
     "output_type": "stream",
     "text": [
      "<class 'pandas.core.frame.DataFrame'>\n",
      "Int64Index: 4335724 entries, 0 to 4335723\n",
      "Data columns (total 9 columns):\n",
      " #   Column       Dtype  \n",
      "---  ------       -----  \n",
      " 0   body         object \n",
      " 1   comment_num  int64  \n",
      " 2   retweet_num  int64  \n",
      " 3   like_num     int64  \n",
      " 4   day_date     object \n",
      " 5   close_value  float64\n",
      " 6   volume       int64  \n",
      " 7   open_value   float64\n",
      " 8   max_diff     float64\n",
      "dtypes: float64(3), int64(4), object(2)\n",
      "memory usage: 330.8+ MB\n"
     ]
    }
   ],
   "source": [
    "MASTER_DATA_SET.info()"
   ]
  },
  {
   "cell_type": "markdown",
   "id": "aab1120b-ac3d-47e2-b091-a3233ab52217",
   "metadata": {},
   "source": [
    "### Running FINBERT classifier"
   ]
  },
  {
   "cell_type": "code",
   "execution_count": 62,
   "id": "8999e8cc-efe6-46cc-989c-5da2db448a95",
   "metadata": {},
   "outputs": [
    {
     "data": {
      "application/vnd.jupyter.widget-view+json": {
       "model_id": "4a18781582d3445d973a14eb9100978e",
       "version_major": 2,
       "version_minor": 0
      },
      "text/plain": [
       "Downloading:   0%|          | 0.00/1.29k [00:00<?, ?B/s]"
      ]
     },
     "metadata": {},
     "output_type": "display_data"
    },
    {
     "data": {
      "application/vnd.jupyter.widget-view+json": {
       "model_id": "e1023563f959458da0d3314e3e9ba332",
       "version_major": 2,
       "version_minor": 0
      },
      "text/plain": [
       "Downloading:   0%|          | 0.00/213k [00:00<?, ?B/s]"
      ]
     },
     "metadata": {},
     "output_type": "display_data"
    },
    {
     "data": {
      "application/vnd.jupyter.widget-view+json": {
       "model_id": "c6feb6b9095646818504baa6f91ee842",
       "version_major": 2,
       "version_minor": 0
      },
      "text/plain": [
       "Downloading:   0%|          | 0.00/112 [00:00<?, ?B/s]"
      ]
     },
     "metadata": {},
     "output_type": "display_data"
    },
    {
     "data": {
      "application/vnd.jupyter.widget-view+json": {
       "model_id": "6e0e59d7eb9f4db29e1ecb75c687109c",
       "version_major": 2,
       "version_minor": 0
      },
      "text/plain": [
       "Downloading:   0%|          | 0.00/40.0 [00:00<?, ?B/s]"
      ]
     },
     "metadata": {},
     "output_type": "display_data"
    },
    {
     "data": {
      "application/vnd.jupyter.widget-view+json": {
       "model_id": "adf1dc6fd710438a9cb76aa89565f120",
       "version_major": 2,
       "version_minor": 0
      },
      "text/plain": [
       "Downloading:   0%|          | 0.00/433M [00:00<?, ?B/s]"
      ]
     },
     "metadata": {},
     "output_type": "display_data"
    }
   ],
   "source": [
    "from transformers import AutoTokenizer, AutoModelForSequenceClassification\n",
    "import torch\n",
    "import numpy as np\n",
    "\n",
    "## Downloads pretrained finBERT model\n",
    "\n",
    "tokenizer = AutoTokenizer.from_pretrained(\"ipuneetrathore/bert-base-cased-finetuned-finBERT\")\n",
    "model = AutoModelForSequenceClassification.from_pretrained(\"ipuneetrathore/bert-base-cased-finetuned-finBERT\")"
   ]
  },
  {
   "cell_type": "code",
   "execution_count": 99,
   "id": "886f91b6-31ab-41e1-9280-267f166207b5",
   "metadata": {},
   "outputs": [
    {
     "name": "stdout",
     "output_type": "stream",
     "text": [
      "-10.322577\n"
     ]
    }
   ],
   "source": [
    "text1 = 'Insanity of today weirdo massive selling...!'\n",
    "\n",
    "inputs = tokenizer(text1,return_tensors = 'pt')\n",
    "output = model(**inputs)\n",
    "sentiments = list(output[0].data[0])\n",
    "print(sentiments[0].numpy() - sentiments[1].numpy())"
   ]
  },
  {
   "cell_type": "code",
   "execution_count": 101,
   "id": "07c27ee7-302f-467b-912d-5abb73053514",
   "metadata": {},
   "outputs": [
    {
     "data": {
      "application/vnd.jupyter.widget-view+json": {
       "model_id": "4bdf4900a2f447c29d19305eb678cbe7",
       "version_major": 2,
       "version_minor": 0
      },
      "text/plain": [
       "0it [00:00, ?it/s]"
      ]
     },
     "metadata": {},
     "output_type": "display_data"
    }
   ],
   "source": [
    "polarity_list = []\n",
    "MASTER_DATA_SET_TRUNCATED = MASTER_DATA_SET.sample(n = 100000, random_state = 1)\n",
    "LABEL = Label.sample(n = 100000, random_state = 1)\n",
    "for i in tqdm(MASTER_DATA_SET_TRUNCATED.iterrows()):\n",
    "    tweet = i[1]['body'].lower()\n",
    "    tweet = re.sub(r'http\\S+', '', tweet)\n",
    "    \n",
    "    inputs = tokenizer(tweet, return_tensors = 'pt')\n",
    "    output = model(**inputs)\n",
    "    sentiments = list(output[0].data[0])\n",
    "    polarity_list.append(sentiments[0].numpy() - sentiments[1].numpy())"
   ]
  },
  {
   "cell_type": "code",
   "execution_count": 102,
   "id": "7bdd3106-a82b-4486-a207-3287a3550a0a",
   "metadata": {},
   "outputs": [
    {
     "data": {
      "text/html": [
       "<div>\n",
       "<style scoped>\n",
       "    .dataframe tbody tr th:only-of-type {\n",
       "        vertical-align: middle;\n",
       "    }\n",
       "\n",
       "    .dataframe tbody tr th {\n",
       "        vertical-align: top;\n",
       "    }\n",
       "\n",
       "    .dataframe thead th {\n",
       "        text-align: right;\n",
       "    }\n",
       "</style>\n",
       "<table border=\"1\" class=\"dataframe\">\n",
       "  <thead>\n",
       "    <tr style=\"text-align: right;\">\n",
       "      <th></th>\n",
       "      <th>polarity</th>\n",
       "    </tr>\n",
       "  </thead>\n",
       "  <tbody>\n",
       "    <tr>\n",
       "      <th>count</th>\n",
       "      <td>100000.000000</td>\n",
       "    </tr>\n",
       "    <tr>\n",
       "      <th>mean</th>\n",
       "      <td>-9.885086</td>\n",
       "    </tr>\n",
       "    <tr>\n",
       "      <th>std</th>\n",
       "      <td>5.428294</td>\n",
       "    </tr>\n",
       "    <tr>\n",
       "      <th>min</th>\n",
       "      <td>-13.386950</td>\n",
       "    </tr>\n",
       "    <tr>\n",
       "      <th>25%</th>\n",
       "      <td>-12.259912</td>\n",
       "    </tr>\n",
       "    <tr>\n",
       "      <th>50%</th>\n",
       "      <td>-12.050096</td>\n",
       "    </tr>\n",
       "    <tr>\n",
       "      <th>75%</th>\n",
       "      <td>-11.413995</td>\n",
       "    </tr>\n",
       "    <tr>\n",
       "      <th>max</th>\n",
       "      <td>11.753155</td>\n",
       "    </tr>\n",
       "  </tbody>\n",
       "</table>\n",
       "</div>"
      ],
      "text/plain": [
       "            polarity\n",
       "count  100000.000000\n",
       "mean       -9.885086\n",
       "std         5.428294\n",
       "min       -13.386950\n",
       "25%       -12.259912\n",
       "50%       -12.050096\n",
       "75%       -11.413995\n",
       "max        11.753155"
      ]
     },
     "execution_count": 102,
     "metadata": {},
     "output_type": "execute_result"
    }
   ],
   "source": [
    "polarity_df = pd.DataFrame(polarity_list, columns = ['polarity'])\n",
    "polarity_df.to_csv('FinBERTModelOutput.csv')\n",
    "polarity_df.describe()"
   ]
  },
  {
   "cell_type": "markdown",
   "id": "9c71153d-987c-4cce-980c-e78355499bb4",
   "metadata": {},
   "source": [
    "#### TEXT Analysis Complete"
   ]
  },
  {
   "cell_type": "code",
   "execution_count": 106,
   "id": "fb3e7279-0fc5-49bb-ba6c-38b1822b238f",
   "metadata": {
    "tags": []
   },
   "outputs": [
    {
     "data": {
      "text/html": [
       "<div>\n",
       "<style scoped>\n",
       "    .dataframe tbody tr th:only-of-type {\n",
       "        vertical-align: middle;\n",
       "    }\n",
       "\n",
       "    .dataframe tbody tr th {\n",
       "        vertical-align: top;\n",
       "    }\n",
       "\n",
       "    .dataframe thead th {\n",
       "        text-align: right;\n",
       "    }\n",
       "</style>\n",
       "<table border=\"1\" class=\"dataframe\">\n",
       "  <thead>\n",
       "    <tr style=\"text-align: right;\">\n",
       "      <th></th>\n",
       "      <th>comment_num</th>\n",
       "      <th>retweet_num</th>\n",
       "      <th>like_num</th>\n",
       "      <th>max_diff</th>\n",
       "      <th>polarity</th>\n",
       "    </tr>\n",
       "  </thead>\n",
       "  <tbody>\n",
       "    <tr>\n",
       "      <th>2017712</th>\n",
       "      <td>0</td>\n",
       "      <td>0</td>\n",
       "      <td>1</td>\n",
       "      <td>0.44</td>\n",
       "      <td>-11.517852</td>\n",
       "    </tr>\n",
       "    <tr>\n",
       "      <th>1298272</th>\n",
       "      <td>0</td>\n",
       "      <td>0</td>\n",
       "      <td>0</td>\n",
       "      <td>10.94</td>\n",
       "      <td>-11.518186</td>\n",
       "    </tr>\n",
       "    <tr>\n",
       "      <th>1386907</th>\n",
       "      <td>0</td>\n",
       "      <td>0</td>\n",
       "      <td>0</td>\n",
       "      <td>8.47</td>\n",
       "      <td>-3.513427</td>\n",
       "    </tr>\n",
       "    <tr>\n",
       "      <th>2805768</th>\n",
       "      <td>0</td>\n",
       "      <td>0</td>\n",
       "      <td>1</td>\n",
       "      <td>6.46</td>\n",
       "      <td>5.195347</td>\n",
       "    </tr>\n",
       "    <tr>\n",
       "      <th>701932</th>\n",
       "      <td>0</td>\n",
       "      <td>4</td>\n",
       "      <td>2</td>\n",
       "      <td>0.79</td>\n",
       "      <td>-11.675406</td>\n",
       "    </tr>\n",
       "  </tbody>\n",
       "</table>\n",
       "</div>"
      ],
      "text/plain": [
       "         comment_num  retweet_num  like_num  max_diff   polarity\n",
       "2017712            0            0         1      0.44 -11.517852\n",
       "1298272            0            0         0     10.94 -11.518186\n",
       "1386907            0            0         0      8.47  -3.513427\n",
       "2805768            0            0         1      6.46   5.195347\n",
       "701932             0            4         2      0.79 -11.675406"
      ]
     },
     "metadata": {},
     "output_type": "display_data"
    },
    {
     "data": {
      "text/html": [
       "<div>\n",
       "<style scoped>\n",
       "    .dataframe tbody tr th:only-of-type {\n",
       "        vertical-align: middle;\n",
       "    }\n",
       "\n",
       "    .dataframe tbody tr th {\n",
       "        vertical-align: top;\n",
       "    }\n",
       "\n",
       "    .dataframe thead th {\n",
       "        text-align: right;\n",
       "    }\n",
       "</style>\n",
       "<table border=\"1\" class=\"dataframe\">\n",
       "  <thead>\n",
       "    <tr style=\"text-align: right;\">\n",
       "      <th></th>\n",
       "      <th>comment_num</th>\n",
       "      <th>retweet_num</th>\n",
       "      <th>like_num</th>\n",
       "      <th>max_diff</th>\n",
       "      <th>polarity</th>\n",
       "    </tr>\n",
       "  </thead>\n",
       "  <tbody>\n",
       "    <tr>\n",
       "      <th>864624</th>\n",
       "      <td>1</td>\n",
       "      <td>0</td>\n",
       "      <td>1</td>\n",
       "      <td>4.7400</td>\n",
       "      <td>-12.061741</td>\n",
       "    </tr>\n",
       "    <tr>\n",
       "      <th>1173262</th>\n",
       "      <td>0</td>\n",
       "      <td>0</td>\n",
       "      <td>0</td>\n",
       "      <td>1.1100</td>\n",
       "      <td>2.654107</td>\n",
       "    </tr>\n",
       "    <tr>\n",
       "      <th>4073081</th>\n",
       "      <td>0</td>\n",
       "      <td>0</td>\n",
       "      <td>1</td>\n",
       "      <td>9.2550</td>\n",
       "      <td>-12.103197</td>\n",
       "    </tr>\n",
       "    <tr>\n",
       "      <th>3781875</th>\n",
       "      <td>0</td>\n",
       "      <td>1</td>\n",
       "      <td>0</td>\n",
       "      <td>19.1877</td>\n",
       "      <td>-12.226639</td>\n",
       "    </tr>\n",
       "    <tr>\n",
       "      <th>173885</th>\n",
       "      <td>0</td>\n",
       "      <td>2</td>\n",
       "      <td>0</td>\n",
       "      <td>6.3100</td>\n",
       "      <td>-12.197323</td>\n",
       "    </tr>\n",
       "  </tbody>\n",
       "</table>\n",
       "</div>"
      ],
      "text/plain": [
       "         comment_num  retweet_num  like_num  max_diff   polarity\n",
       "864624             1            0         1    4.7400 -12.061741\n",
       "1173262            0            0         0    1.1100   2.654107\n",
       "4073081            0            0         1    9.2550 -12.103197\n",
       "3781875            0            1         0   19.1877 -12.226639\n",
       "173885             0            2         0    6.3100 -12.197323"
      ]
     },
     "metadata": {},
     "output_type": "display_data"
    },
    {
     "data": {
      "text/plain": [
       "2017712    1\n",
       "1298272    0\n",
       "1386907    1\n",
       "2805768    0\n",
       "701932     1\n",
       "Name: price_movement, dtype: int64"
      ]
     },
     "metadata": {},
     "output_type": "display_data"
    },
    {
     "data": {
      "text/plain": [
       "864624     1\n",
       "1173262    1\n",
       "4073081    0\n",
       "3781875    0\n",
       "173885     1\n",
       "Name: price_movement, dtype: int64"
      ]
     },
     "metadata": {},
     "output_type": "display_data"
    }
   ],
   "source": [
    "import sklearn.model_selection as model_selection\n",
    "\n",
    "polarity_df = polarity_df.set_index(MASTER_DATA_SET_TRUNCATED.index)                      \n",
    "MASTER_DATA_SET_TRUNCATED['polarity'] = polarity_df['polarity']\n",
    "\n",
    "# SPLITTING INTO TRAIN AND TEST DATA\n",
    "X_train, X_test, y_train, y_test = model_selection.train_test_split(MASTER_DATA_SET_TRUNCATED, LABEL, train_size=0.65, random_state=69)\n",
    "\n",
    "X_train = X_train.drop(axis = 1, columns = ['body','day_date','volume','close_value','open_value'])\n",
    "X_test = X_test.drop(axis = 1, columns = ['body','day_date','volume','close_value','open_value'])\n",
    "display(X_train.head())\n",
    "display(X_test.head())\n",
    "display(y_train.head())\n",
    "display(y_test.head())"
   ]
  },
  {
   "cell_type": "code",
   "execution_count": 108,
   "id": "18eb0402-60a6-4032-9e84-1aa237c5a0d1",
   "metadata": {},
   "outputs": [],
   "source": [
    "lr_x_train = X_train\n",
    "lr_y_train = y_train\n",
    "lr_x_test = X_test\n",
    "lr_y_test = y_test\n",
    "\n",
    "tree_x_train = X_train\n",
    "tree_y_train = y_train\n",
    "tree_x_test = X_test\n",
    "tree_y_test = y_test\n",
    "\n",
    "svm_x_train = X_train\n",
    "svm_y_train = y_train\n",
    "svm_x_test = X_test\n",
    "svm_y_test = y_test"
   ]
  },
  {
   "cell_type": "code",
   "execution_count": 109,
   "id": "88a3be67-2bc3-4653-a093-1beae134198a",
   "metadata": {},
   "outputs": [],
   "source": [
    "# import the class\n",
    "from sklearn.linear_model import LogisticRegression\n",
    "\n",
    "# instantiate the model (using the default parameters)\n",
    "logreg = LogisticRegression(solver='lbfgs', max_iter=100000)\n",
    "\n",
    "# fit the model with data\n",
    "logreg.fit(lr_x_train,lr_y_train)\n",
    "\n",
    "#\n",
    "y_pred=logreg.predict(lr_x_test)"
   ]
  },
  {
   "cell_type": "code",
   "execution_count": 111,
   "id": "44ee6a40-b03e-42b6-8616-80e63b4fb89c",
   "metadata": {},
   "outputs": [
    {
     "name": "stdout",
     "output_type": "stream",
     "text": [
      "[[19254    25]\n",
      " [15683    38]]\n",
      "Accuracy: 0.5512\n"
     ]
    }
   ],
   "source": [
    "# import the metrics class\n",
    "from sklearn import metrics\n",
    "cnf_matrix = metrics.confusion_matrix(y_test, y_pred)\n",
    "print(cnf_matrix)\n",
    "print(\"Accuracy:\",metrics.accuracy_score(lr_y_test, y_pred))"
   ]
  },
  {
   "cell_type": "code",
   "execution_count": 112,
   "id": "b177c192-c87b-41d6-9fba-e9277f969f65",
   "metadata": {},
   "outputs": [
    {
     "name": "stdout",
     "output_type": "stream",
     "text": [
      "Accuracy: 0.7050285714285714\n"
     ]
    }
   ],
   "source": [
    "# Load libraries\n",
    "import pandas as pd\n",
    "from sklearn.tree import DecisionTreeClassifier # Import Decision Tree Classifier\n",
    "from sklearn.model_selection import train_test_split # Import train_test_split function\n",
    "from sklearn import metrics #Import scikit-learn metrics module for accuracy calculation\n",
    "\n",
    "# Create Decision Tree classifer object\n",
    "clf = DecisionTreeClassifier()\n",
    "\n",
    "# Train Decision Tree Classifer\n",
    "clf = clf.fit(tree_x_train,tree_y_train)\n",
    "\n",
    "#Predict the response for test dataset\n",
    "y_pred = clf.predict(tree_x_test)\n",
    "\n",
    "# Model Accuracy, how often is the classifier correct?\n",
    "print(\"Accuracy:\",metrics.accuracy_score(tree_y_test, y_pred))"
   ]
  },
  {
   "cell_type": "code",
   "execution_count": 113,
   "id": "c8155204-2718-4dfd-9f00-050d5543e76b",
   "metadata": {},
   "outputs": [
    {
     "name": "stdout",
     "output_type": "stream",
     "text": [
      "Accuracy: 0.62\n"
     ]
    }
   ],
   "source": [
    "#Import svm model\n",
    "from sklearn import svm\n",
    "\n",
    "#Create a svm Classifier\n",
    "clf = svm.SVC(kernel='linear') # Linear Kernel\n",
    "\n",
    "#Train the model using the training sets\n",
    "clf.fit(svm_x_train.head(100),svm_y_train.head(100))\n",
    "\n",
    "#Predict the response for test dataset\n",
    "y_pred = clf.predict(svm_x_test.head(100))\n",
    "\n",
    "#Import scikit-learn metrics module for accuracy calculation\n",
    "from sklearn import metrics\n",
    "\n",
    "# Model Accuracy: how often is the classifier correct?\n",
    "print(\"Accuracy:\",metrics.accuracy_score(svm_y_test.head(100), y_pred))"
   ]
  },
  {
   "cell_type": "code",
   "execution_count": 117,
   "id": "9ee31fe8-22a7-40a9-a3e3-d11eac54238b",
   "metadata": {},
   "outputs": [],
   "source": [
    "MASTER_DATA_SET_TRUNCATED['Label'] = LABEL"
   ]
  },
  {
   "cell_type": "code",
   "execution_count": 118,
   "id": "c11ad8d7-71d2-4082-b96d-921f4b601cfa",
   "metadata": {},
   "outputs": [
    {
     "data": {
      "text/html": [
       "<div>\n",
       "<style scoped>\n",
       "    .dataframe tbody tr th:only-of-type {\n",
       "        vertical-align: middle;\n",
       "    }\n",
       "\n",
       "    .dataframe tbody tr th {\n",
       "        vertical-align: top;\n",
       "    }\n",
       "\n",
       "    .dataframe thead th {\n",
       "        text-align: right;\n",
       "    }\n",
       "</style>\n",
       "<table border=\"1\" class=\"dataframe\">\n",
       "  <thead>\n",
       "    <tr style=\"text-align: right;\">\n",
       "      <th></th>\n",
       "      <th>comment_num</th>\n",
       "      <th>retweet_num</th>\n",
       "      <th>like_num</th>\n",
       "      <th>close_value</th>\n",
       "      <th>volume</th>\n",
       "      <th>open_value</th>\n",
       "      <th>max_diff</th>\n",
       "      <th>polarity</th>\n",
       "      <th>Label</th>\n",
       "    </tr>\n",
       "  </thead>\n",
       "  <tbody>\n",
       "    <tr>\n",
       "      <th>comment_num</th>\n",
       "      <td>1.000000</td>\n",
       "      <td>0.351177</td>\n",
       "      <td>0.390294</td>\n",
       "      <td>-0.005681</td>\n",
       "      <td>-0.017907</td>\n",
       "      <td>-0.005754</td>\n",
       "      <td>0.020922</td>\n",
       "      <td>0.014036</td>\n",
       "      <td>0.008189</td>\n",
       "    </tr>\n",
       "    <tr>\n",
       "      <th>retweet_num</th>\n",
       "      <td>0.351177</td>\n",
       "      <td>1.000000</td>\n",
       "      <td>0.466763</td>\n",
       "      <td>-0.002488</td>\n",
       "      <td>-0.004521</td>\n",
       "      <td>-0.002486</td>\n",
       "      <td>0.006303</td>\n",
       "      <td>0.009707</td>\n",
       "      <td>0.003738</td>\n",
       "    </tr>\n",
       "    <tr>\n",
       "      <th>like_num</th>\n",
       "      <td>0.390294</td>\n",
       "      <td>0.466763</td>\n",
       "      <td>1.000000</td>\n",
       "      <td>-0.009396</td>\n",
       "      <td>-0.032881</td>\n",
       "      <td>-0.009538</td>\n",
       "      <td>0.026539</td>\n",
       "      <td>0.024718</td>\n",
       "      <td>0.003941</td>\n",
       "    </tr>\n",
       "    <tr>\n",
       "      <th>close_value</th>\n",
       "      <td>-0.005681</td>\n",
       "      <td>-0.002488</td>\n",
       "      <td>-0.009396</td>\n",
       "      <td>1.000000</td>\n",
       "      <td>-0.501430</td>\n",
       "      <td>0.999741</td>\n",
       "      <td>0.695339</td>\n",
       "      <td>-0.003676</td>\n",
       "      <td>0.002420</td>\n",
       "    </tr>\n",
       "    <tr>\n",
       "      <th>volume</th>\n",
       "      <td>-0.017907</td>\n",
       "      <td>-0.004521</td>\n",
       "      <td>-0.032881</td>\n",
       "      <td>-0.501430</td>\n",
       "      <td>1.000000</td>\n",
       "      <td>-0.500977</td>\n",
       "      <td>-0.329922</td>\n",
       "      <td>0.030660</td>\n",
       "      <td>0.000206</td>\n",
       "    </tr>\n",
       "    <tr>\n",
       "      <th>open_value</th>\n",
       "      <td>-0.005754</td>\n",
       "      <td>-0.002486</td>\n",
       "      <td>-0.009538</td>\n",
       "      <td>0.999741</td>\n",
       "      <td>-0.500977</td>\n",
       "      <td>1.000000</td>\n",
       "      <td>0.698065</td>\n",
       "      <td>-0.003543</td>\n",
       "      <td>0.001728</td>\n",
       "    </tr>\n",
       "    <tr>\n",
       "      <th>max_diff</th>\n",
       "      <td>0.020922</td>\n",
       "      <td>0.006303</td>\n",
       "      <td>0.026539</td>\n",
       "      <td>0.695339</td>\n",
       "      <td>-0.329922</td>\n",
       "      <td>0.698065</td>\n",
       "      <td>1.000000</td>\n",
       "      <td>0.026217</td>\n",
       "      <td>0.008676</td>\n",
       "    </tr>\n",
       "    <tr>\n",
       "      <th>polarity</th>\n",
       "      <td>0.014036</td>\n",
       "      <td>0.009707</td>\n",
       "      <td>0.024718</td>\n",
       "      <td>-0.003676</td>\n",
       "      <td>0.030660</td>\n",
       "      <td>-0.003543</td>\n",
       "      <td>0.026217</td>\n",
       "      <td>1.000000</td>\n",
       "      <td>0.002301</td>\n",
       "    </tr>\n",
       "    <tr>\n",
       "      <th>Label</th>\n",
       "      <td>0.008189</td>\n",
       "      <td>0.003738</td>\n",
       "      <td>0.003941</td>\n",
       "      <td>0.002420</td>\n",
       "      <td>0.000206</td>\n",
       "      <td>0.001728</td>\n",
       "      <td>0.008676</td>\n",
       "      <td>0.002301</td>\n",
       "      <td>1.000000</td>\n",
       "    </tr>\n",
       "  </tbody>\n",
       "</table>\n",
       "</div>"
      ],
      "text/plain": [
       "             comment_num  retweet_num  like_num  close_value    volume  \\\n",
       "comment_num     1.000000     0.351177  0.390294    -0.005681 -0.017907   \n",
       "retweet_num     0.351177     1.000000  0.466763    -0.002488 -0.004521   \n",
       "like_num        0.390294     0.466763  1.000000    -0.009396 -0.032881   \n",
       "close_value    -0.005681    -0.002488 -0.009396     1.000000 -0.501430   \n",
       "volume         -0.017907    -0.004521 -0.032881    -0.501430  1.000000   \n",
       "open_value     -0.005754    -0.002486 -0.009538     0.999741 -0.500977   \n",
       "max_diff        0.020922     0.006303  0.026539     0.695339 -0.329922   \n",
       "polarity        0.014036     0.009707  0.024718    -0.003676  0.030660   \n",
       "Label           0.008189     0.003738  0.003941     0.002420  0.000206   \n",
       "\n",
       "             open_value  max_diff  polarity     Label  \n",
       "comment_num   -0.005754  0.020922  0.014036  0.008189  \n",
       "retweet_num   -0.002486  0.006303  0.009707  0.003738  \n",
       "like_num      -0.009538  0.026539  0.024718  0.003941  \n",
       "close_value    0.999741  0.695339 -0.003676  0.002420  \n",
       "volume        -0.500977 -0.329922  0.030660  0.000206  \n",
       "open_value     1.000000  0.698065 -0.003543  0.001728  \n",
       "max_diff       0.698065  1.000000  0.026217  0.008676  \n",
       "polarity      -0.003543  0.026217  1.000000  0.002301  \n",
       "Label          0.001728  0.008676  0.002301  1.000000  "
      ]
     },
     "execution_count": 118,
     "metadata": {},
     "output_type": "execute_result"
    }
   ],
   "source": [
    "MASTER_DATA_SET_TRUNCATED.corr()"
   ]
  },
  {
   "cell_type": "code",
   "execution_count": null,
   "id": "c2a2e331-148b-480c-9d08-085d5e9ca39c",
   "metadata": {},
   "outputs": [],
   "source": []
  }
 ],
 "metadata": {
  "kernelspec": {
   "display_name": "Python 3",
   "language": "python",
   "name": "python3"
  },
  "language_info": {
   "codemirror_mode": {
    "name": "ipython",
    "version": 3
   },
   "file_extension": ".py",
   "mimetype": "text/x-python",
   "name": "python",
   "nbconvert_exporter": "python",
   "pygments_lexer": "ipython3",
   "version": "3.9.4"
  }
 },
 "nbformat": 4,
 "nbformat_minor": 5
}
